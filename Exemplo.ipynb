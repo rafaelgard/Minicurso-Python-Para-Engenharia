{
 "cells": [
  {
   "cell_type": "markdown",
   "id": "fd684bd1",
   "metadata": {},
   "source": [
    "# pyautogui"
   ]
  },
  {
   "cell_type": "code",
   "execution_count": 1,
   "id": "e33eea65",
   "metadata": {},
   "outputs": [],
   "source": [
    "import pyautogui\n",
    "import time\n",
    "\n",
    "time.sleep(5)\n",
    "\n",
    "#Lembrar de abrir o paint\n",
    "\n",
    "distance = 100\n",
    "while distance > 0:\n",
    "        pyautogui.drag(distance, 0, duration=0.5)   # move right\n",
    "        distance -= 5\n",
    "        pyautogui.drag(0, distance, duration=0.5)   # move down\n",
    "        pyautogui.drag(-distance, 0, duration=0.5)  # move left\n",
    "        distance -= 5\n",
    "        pyautogui.drag(0, -distance, duration=0.5)  # move up"
   ]
  },
  {
   "cell_type": "code",
   "execution_count": null,
   "id": "2f48715b",
   "metadata": {},
   "outputs": [],
   "source": []
  }
 ],
 "metadata": {
  "kernelspec": {
   "display_name": "Python 3 (ipykernel)",
   "language": "python",
   "name": "python3"
  },
  "language_info": {
   "codemirror_mode": {
    "name": "ipython",
    "version": 3
   },
   "file_extension": ".py",
   "mimetype": "text/x-python",
   "name": "python",
   "nbconvert_exporter": "python",
   "pygments_lexer": "ipython3",
   "version": "3.8.11"
  }
 },
 "nbformat": 4,
 "nbformat_minor": 5
}

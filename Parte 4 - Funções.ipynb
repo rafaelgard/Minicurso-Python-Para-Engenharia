{
 "cells": [
  {
   "cell_type": "markdown",
   "id": "5945c25b",
   "metadata": {},
   "source": [
    "# Funções"
   ]
  },
  {
   "cell_type": "code",
   "execution_count": 1,
   "id": "c8427863",
   "metadata": {},
   "outputs": [],
   "source": [
    "def soma_numeros(numero_1, numero_2):\n",
    "    resultado = numero_1 + numero_2\n",
    "    return resultado"
   ]
  },
  {
   "cell_type": "code",
   "execution_count": 2,
   "id": "f23f4b9c",
   "metadata": {},
   "outputs": [
    {
     "name": "stdout",
     "output_type": "stream",
     "text": [
      "100\n"
     ]
    }
   ],
   "source": [
    "A = 40\n",
    "B = 60\n",
    "\n",
    "print(soma_numeros(A, B))"
   ]
  },
  {
   "cell_type": "code",
   "execution_count": 3,
   "id": "bbc5289a",
   "metadata": {},
   "outputs": [
    {
     "name": "stdout",
     "output_type": "stream",
     "text": [
      "1\n",
      "4\n",
      "9\n",
      "16\n",
      "25\n",
      "36\n",
      "49\n",
      "64\n",
      "81\n",
      "100\n"
     ]
    }
   ],
   "source": [
    "lista = [1,2,3,4,5,6,7,8,9,10]\n",
    "\n",
    "def quadrado(x):\n",
    "    return x**2\n",
    "\n",
    "for numero in lista:\n",
    "    print(quadrado(numero))"
   ]
  },
  {
   "cell_type": "code",
   "execution_count": 4,
   "id": "e79bea4a",
   "metadata": {},
   "outputs": [
    {
     "data": {
      "text/plain": [
       "10"
      ]
     },
     "execution_count": 4,
     "metadata": {},
     "output_type": "execute_result"
    }
   ],
   "source": [
    "len(lista)"
   ]
  },
  {
   "cell_type": "code",
   "execution_count": 5,
   "id": "8e346b9c",
   "metadata": {},
   "outputs": [
    {
     "name": "stdout",
     "output_type": "stream",
     "text": [
      "1\n",
      "4\n",
      "9\n",
      "16\n",
      "25\n",
      "36\n",
      "49\n",
      "64\n",
      "81\n",
      "100\n"
     ]
    }
   ],
   "source": [
    "for indice in range(len(lista)):\n",
    "    print(quadrado(lista[indice]))"
   ]
  },
  {
   "cell_type": "code",
   "execution_count": 6,
   "id": "242c9527",
   "metadata": {},
   "outputs": [
    {
     "name": "stdout",
     "output_type": "stream",
     "text": [
      "1.0\n",
      "1.4142135623730951\n",
      "1.7320508075688772\n",
      "2.0\n",
      "2.23606797749979\n",
      "2.449489742783178\n",
      "2.6457513110645907\n",
      "2.8284271247461903\n",
      "3.0\n",
      "3.1622776601683795\n"
     ]
    }
   ],
   "source": [
    "def raiz(x):\n",
    "    return x**(1/2)\n",
    "\n",
    "for numero in lista:\n",
    "    print(raiz(numero))"
   ]
  },
  {
   "cell_type": "code",
   "execution_count": 7,
   "id": "cc06fc67",
   "metadata": {},
   "outputs": [],
   "source": [
    "def calculadora(x):\n",
    "    resultado_quadrado = quadrado(x)\n",
    "    resultado_raiz_quadrada = raiz(x)\n",
    "    \n",
    "    return x, resultado_quadrado, resultado_raiz_quadrada"
   ]
  },
  {
   "cell_type": "code",
   "execution_count": 8,
   "id": "9473151c",
   "metadata": {},
   "outputs": [
    {
     "data": {
      "text/plain": [
       "[1, 2, 3, 4, 5, 6, 7, 8, 9, 10]"
      ]
     },
     "execution_count": 8,
     "metadata": {},
     "output_type": "execute_result"
    }
   ],
   "source": [
    "lista"
   ]
  },
  {
   "cell_type": "code",
   "execution_count": 9,
   "id": "aa4e9149",
   "metadata": {},
   "outputs": [
    {
     "name": "stdout",
     "output_type": "stream",
     "text": [
      "O quadrado de 1 é:  1\n",
      "A raiz de 1 é:  1.0\n",
      "\n",
      "\n",
      "O quadrado de 2 é:  4\n",
      "A raiz de 2 é:  1.4142135623730951\n",
      "\n",
      "\n",
      "O quadrado de 3 é:  9\n",
      "A raiz de 3 é:  1.7320508075688772\n",
      "\n",
      "\n",
      "O quadrado de 4 é:  16\n",
      "A raiz de 4 é:  2.0\n",
      "\n",
      "\n",
      "O quadrado de 5 é:  25\n",
      "A raiz de 5 é:  2.23606797749979\n",
      "\n",
      "\n",
      "O quadrado de 6 é:  36\n",
      "A raiz de 6 é:  2.449489742783178\n",
      "\n",
      "\n",
      "O quadrado de 7 é:  49\n",
      "A raiz de 7 é:  2.6457513110645907\n",
      "\n",
      "\n",
      "O quadrado de 8 é:  64\n",
      "A raiz de 8 é:  2.8284271247461903\n",
      "\n",
      "\n",
      "O quadrado de 9 é:  81\n",
      "A raiz de 9 é:  3.0\n",
      "\n",
      "\n",
      "O quadrado de 10 é:  100\n",
      "A raiz de 10 é:  3.1622776601683795\n",
      "\n",
      "\n"
     ]
    }
   ],
   "source": [
    "for numero in lista:\n",
    "    x, resultado_quadrado, resultado_raiz_quadrada = calculadora(numero)\n",
    "    \n",
    "    print('O quadrado de', x, 'é: ', resultado_quadrado)\n",
    "    print('A raiz de', x, 'é: ', resultado_raiz_quadrada)\n",
    "    print('\\n')"
   ]
  },
  {
   "cell_type": "markdown",
   "id": "cf919687",
   "metadata": {},
   "source": [
    "## Ordenação"
   ]
  },
  {
   "cell_type": "markdown",
   "id": "834ae17d",
   "metadata": {},
   "source": [
    "### Ordem crescente"
   ]
  },
  {
   "cell_type": "code",
   "execution_count": 10,
   "id": "a8ca90f8",
   "metadata": {},
   "outputs": [
    {
     "name": "stdout",
     "output_type": "stream",
     "text": [
      "[11, 13, 20, 44, 55]\n"
     ]
    }
   ],
   "source": [
    "lista = [44,55,11,13,20]\n",
    "\n",
    "lista.sort()\n",
    "\n",
    "print(lista)"
   ]
  },
  {
   "cell_type": "markdown",
   "id": "4d24a93a",
   "metadata": {},
   "source": [
    "### Ordem decrescente"
   ]
  },
  {
   "cell_type": "code",
   "execution_count": 11,
   "id": "c59f982e",
   "metadata": {},
   "outputs": [
    {
     "name": "stdout",
     "output_type": "stream",
     "text": [
      "[55, 44, 20, 13, 11]\n"
     ]
    }
   ],
   "source": [
    "lista = [44,55,11,13,20]\n",
    "\n",
    "lista.sort(reverse=True)\n",
    "\n",
    "print(lista)"
   ]
  },
  {
   "cell_type": "code",
   "execution_count": 12,
   "id": "828db3f1",
   "metadata": {},
   "outputs": [
    {
     "name": "stdout",
     "output_type": "stream",
     "text": [
      "['Ana', 'Fernando', 'João', 'Maria']\n"
     ]
    }
   ],
   "source": [
    "nomes = ['João', 'Fernando', 'Ana', 'Maria']\n",
    "\n",
    "nomes.sort()\n",
    "\n",
    "print(nomes)"
   ]
  },
  {
   "cell_type": "code",
   "execution_count": null,
   "id": "111a5d50",
   "metadata": {},
   "outputs": [],
   "source": []
  }
 ],
 "metadata": {
  "kernelspec": {
   "display_name": "Python 3 (ipykernel)",
   "language": "python",
   "name": "python3"
  },
  "language_info": {
   "codemirror_mode": {
    "name": "ipython",
    "version": 3
   },
   "file_extension": ".py",
   "mimetype": "text/x-python",
   "name": "python",
   "nbconvert_exporter": "python",
   "pygments_lexer": "ipython3",
   "version": "3.8.11"
  }
 },
 "nbformat": 4,
 "nbformat_minor": 5
}

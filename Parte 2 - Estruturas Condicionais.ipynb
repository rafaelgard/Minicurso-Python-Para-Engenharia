{
 "cells": [
  {
   "cell_type": "markdown",
   "id": "1f0fd63a",
   "metadata": {},
   "source": [
    "# Estruturas Condicionais"
   ]
  },
  {
   "cell_type": "markdown",
   "id": "ed0f6720",
   "metadata": {},
   "source": [
    "# if (se)\n",
    "# else (senao)\n",
    "# elif (senão se)"
   ]
  },
  {
   "cell_type": "markdown",
   "id": "96404100",
   "metadata": {},
   "source": [
    "# IF"
   ]
  },
  {
   "cell_type": "code",
   "execution_count": 1,
   "id": "c63c6384",
   "metadata": {},
   "outputs": [
    {
     "data": {
      "text/plain": [
       "True"
      ]
     },
     "execution_count": 1,
     "metadata": {},
     "output_type": "execute_result"
    }
   ],
   "source": [
    "A = 10\n",
    "B = 5\n",
    "\n",
    "A>B"
   ]
  },
  {
   "cell_type": "markdown",
   "id": "79ca50e0",
   "metadata": {},
   "source": [
    "### Comparando números"
   ]
  },
  {
   "cell_type": "code",
   "execution_count": 5,
   "id": "7d9f8bf9",
   "metadata": {},
   "outputs": [
    {
     "name": "stdout",
     "output_type": "stream",
     "text": [
      "B é maior do que A\n"
     ]
    }
   ],
   "source": [
    "A = 10\n",
    "B = 50\n",
    "\n",
    "if B<A: \n",
    "    print('B é menor do que A')\n",
    "      \n",
    "elif B == A:\n",
    "    print('B igual a A')\n",
    "       \n",
    "else:\n",
    "    print('B é maior do que A')"
   ]
  },
  {
   "cell_type": "markdown",
   "id": "c3f3bdc0",
   "metadata": {},
   "source": [
    "### Comparando strings"
   ]
  },
  {
   "cell_type": "code",
   "execution_count": 12,
   "id": "1796e7d8",
   "metadata": {},
   "outputs": [
    {
     "name": "stdout",
     "output_type": "stream",
     "text": [
      "Os nomes são diferentes\n"
     ]
    }
   ],
   "source": [
    "nome_1 = 'João'\n",
    "nome_2 = 'Pedro'\n",
    "\n",
    "if nome_1 == nome_2:\n",
    "    print('Os nomes são iguais')\n",
    "else:\n",
    "    print('Os nomes são diferentes')"
   ]
  },
  {
   "cell_type": "code",
   "execution_count": null,
   "id": "1b90b510",
   "metadata": {},
   "outputs": [],
   "source": []
  }
 ],
 "metadata": {
  "kernelspec": {
   "display_name": "Python 3 (ipykernel)",
   "language": "python",
   "name": "python3"
  },
  "language_info": {
   "codemirror_mode": {
    "name": "ipython",
    "version": 3
   },
   "file_extension": ".py",
   "mimetype": "text/x-python",
   "name": "python",
   "nbconvert_exporter": "python",
   "pygments_lexer": "ipython3",
   "version": "3.8.11"
  }
 },
 "nbformat": 4,
 "nbformat_minor": 5
}

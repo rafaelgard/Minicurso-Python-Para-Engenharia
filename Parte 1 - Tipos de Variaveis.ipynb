{
 "cells": [
  {
   "cell_type": "markdown",
   "id": "13ceda23",
   "metadata": {},
   "source": [
    "# Tipos de variáveis"
   ]
  },
  {
   "cell_type": "markdown",
   "id": "08cf2a16",
   "metadata": {},
   "source": [
    "###  Inteiras\n",
    "\n",
    "\n",
    "São basicamente números inteiros\n",
    "\n",
    "Ex: 5, 6 ,7, 8, 0, -1 , -7, -9\n"
   ]
  },
  {
   "cell_type": "code",
   "execution_count": 35,
   "id": "432b90f3",
   "metadata": {
    "scrolled": true
   },
   "outputs": [
    {
     "name": "stdout",
     "output_type": "stream",
     "text": [
      "5\n",
      "<class 'int'>\n",
      "15\n"
     ]
    }
   ],
   "source": [
    "A = 5\n",
    "print(A)\n",
    "\n",
    "print(type(A))\n",
    "\n",
    "soma = A + 10\n",
    "print(soma)"
   ]
  },
  {
   "cell_type": "code",
   "execution_count": 36,
   "id": "bd85de47",
   "metadata": {},
   "outputs": [
    {
     "name": "stdout",
     "output_type": "stream",
     "text": [
      "1220\n"
     ]
    }
   ],
   "source": [
    "A = 751\n",
    "B = 469\n",
    "\n",
    "soma = A + B\n",
    "print(soma)"
   ]
  },
  {
   "cell_type": "markdown",
   "id": "e3ee87d7",
   "metadata": {},
   "source": [
    "###  Float"
   ]
  },
  {
   "cell_type": "code",
   "execution_count": 37,
   "id": "12a72e82",
   "metadata": {},
   "outputs": [
    {
     "name": "stdout",
     "output_type": "stream",
     "text": [
      "5.5\n",
      "<class 'float'>\n"
     ]
    }
   ],
   "source": [
    "A = 5.5\n",
    "print(A)\n",
    "print(type(A))"
   ]
  },
  {
   "cell_type": "markdown",
   "id": "44570489",
   "metadata": {},
   "source": [
    "###  Complexa"
   ]
  },
  {
   "cell_type": "code",
   "execution_count": 38,
   "id": "7d28e5c0",
   "metadata": {},
   "outputs": [
    {
     "name": "stdout",
     "output_type": "stream",
     "text": [
      "<class 'complex'>\n",
      "<class 'complex'>\n",
      "(2+5j)\n"
     ]
    }
   ],
   "source": [
    "a = 5+2j\n",
    "b = 20+6j\n",
    "\n",
    "print(type(a))\n",
    "print(type(b))\n",
    "print(complex(2, 5))"
   ]
  },
  {
   "cell_type": "markdown",
   "id": "21a27de5",
   "metadata": {},
   "source": [
    "###  String"
   ]
  },
  {
   "cell_type": "code",
   "execution_count": 39,
   "id": "a2ede148",
   "metadata": {},
   "outputs": [
    {
     "name": "stdout",
     "output_type": "stream",
     "text": [
      "Rafael\n",
      "Engenharia de Produção\n",
      "Rafael-Engenharia de Produção\n"
     ]
    }
   ],
   "source": [
    "Nome = \"Rafael\"\n",
    "Nome = 'Rafael'\n",
    "\n",
    "print(Nome)\n",
    "\n",
    "Graduacao = \"Engenharia de Produção\"\n",
    "print(Graduacao)\n",
    "\n",
    "\n",
    "print(Nome + '-' + Graduacao)"
   ]
  },
  {
   "cell_type": "code",
   "execution_count": 40,
   "id": "f132688c",
   "metadata": {},
   "outputs": [
    {
     "name": "stdout",
     "output_type": "stream",
     "text": [
      "Rafael\n",
      "R\n",
      "Rafa\n"
     ]
    }
   ],
   "source": [
    "#Imprimindo parte de uma string\n",
    "\n",
    "print(Nome)\n",
    "\n",
    "#Primeiro caracter\n",
    "print(Nome[0])\n",
    "\n",
    "#Os 4 primeiros caracteres\n",
    "print(Nome[0:4])"
   ]
  },
  {
   "cell_type": "markdown",
   "id": "a3ad7e58",
   "metadata": {},
   "source": [
    "###  Boleanas"
   ]
  },
  {
   "cell_type": "code",
   "execution_count": 41,
   "id": "a3500617",
   "metadata": {},
   "outputs": [
    {
     "name": "stdout",
     "output_type": "stream",
     "text": [
      "True\n",
      "<class 'bool'>\n",
      "False\n",
      "<class 'bool'>\n"
     ]
    }
   ],
   "source": [
    "dia_de_semana = True\n",
    "feriado = False\n",
    "\n",
    "print(dia_de_semana)\n",
    "print(type(dia_de_semana))\n",
    "\n",
    "print(feriado)\n",
    "print(type(feriado))"
   ]
  },
  {
   "cell_type": "markdown",
   "id": "ed895095",
   "metadata": {},
   "source": [
    "### Listas"
   ]
  },
  {
   "cell_type": "code",
   "execution_count": 42,
   "id": "405012c6",
   "metadata": {},
   "outputs": [
    {
     "name": "stdout",
     "output_type": "stream",
     "text": [
      "['Marcio', 'Ana', 'Aline', 'João']\n",
      "[7.5, 8.5, 7.8, 8.0]\n"
     ]
    },
    {
     "data": {
      "text/plain": [
       "8.0"
      ]
     },
     "execution_count": 42,
     "metadata": {},
     "output_type": "execute_result"
    }
   ],
   "source": [
    "lista = []\n",
    "\n",
    "alunos = ['Marcio', 'Ana', 'Aline', 'João']\n",
    "notas = [7.5, 8.5, 7.8, 8.0] \n",
    "\n",
    "#Imprimindo a lista alunos\n",
    "print(alunos)\n",
    "\n",
    "#Imprimindo a lista notas\n",
    "print(notas)\n",
    "\n",
    "notas[3]"
   ]
  },
  {
   "cell_type": "markdown",
   "id": "a11fcc4e",
   "metadata": {},
   "source": [
    "### Lista de listas"
   ]
  },
  {
   "cell_type": "code",
   "execution_count": 43,
   "id": "b016af5f",
   "metadata": {},
   "outputs": [
    {
     "name": "stdout",
     "output_type": "stream",
     "text": [
      "[['Marcio', 7.5], ['Ana', 8.5], ['Aline', 7.8], ['João', 8]]\n"
     ]
    }
   ],
   "source": [
    "aluno_nota = [['Marcio', 7.5], ['Ana', 8.5], ['Aline', 7.8], ['João', 8]]\n",
    "\n",
    "print(aluno_nota)"
   ]
  },
  {
   "cell_type": "code",
   "execution_count": 44,
   "id": "06a49b16",
   "metadata": {},
   "outputs": [
    {
     "name": "stdout",
     "output_type": "stream",
     "text": [
      "['Marcio', 7.5]\n"
     ]
    }
   ],
   "source": [
    "#Acessando elementos da lista\n",
    "\n",
    "print(aluno_nota[0])"
   ]
  },
  {
   "cell_type": "code",
   "execution_count": 45,
   "id": "f66e5e8d",
   "metadata": {},
   "outputs": [
    {
     "name": "stdout",
     "output_type": "stream",
     "text": [
      "['Marcio', 'Ana', 'Aline', 'João']\n",
      "['Pedro', 'Ana', 'Aline', 'João']\n"
     ]
    }
   ],
   "source": [
    "#Modificando um valor da lista\n",
    "\n",
    "#Antes de modificar\n",
    "print(alunos)\n",
    "alunos[0] = 'Pedro'\n",
    "\n",
    "#Depois de modificar\n",
    "print(alunos)"
   ]
  },
  {
   "cell_type": "code",
   "execution_count": 46,
   "id": "c79d958c",
   "metadata": {},
   "outputs": [
    {
     "name": "stdout",
     "output_type": "stream",
     "text": [
      "['Pedro', 'Ana', 'Aline', 'João']\n",
      "[5, 'Ana', 'Aline', 'João']\n",
      "25\n"
     ]
    }
   ],
   "source": [
    "#Modificando um valor da lista\n",
    "\n",
    "#Antes de modificar\n",
    "print(alunos)\n",
    "alunos[0] = 5\n",
    "\n",
    "#Depois de modificar\n",
    "print(alunos)\n",
    "\n",
    "#Multiplicando o primeiro valor por 5\n",
    "print(alunos[0]*5)"
   ]
  },
  {
   "cell_type": "markdown",
   "id": "3f18fe5c",
   "metadata": {},
   "source": [
    "### Tuplas"
   ]
  },
  {
   "cell_type": "code",
   "execution_count": 47,
   "id": "dedfab72",
   "metadata": {},
   "outputs": [
    {
     "name": "stdout",
     "output_type": "stream",
     "text": [
      "(90, 79, 54, 32, 21)\n"
     ]
    }
   ],
   "source": [
    "valores = (90, 79, 54, 32, 21)\n",
    "pontos = (100, 94.05, 86.8, 62)\n",
    "\n",
    "print(valores)"
   ]
  },
  {
   "cell_type": "markdown",
   "id": "022fffd7",
   "metadata": {},
   "source": [
    "### Dicionarios"
   ]
  },
  {
   "cell_type": "code",
   "execution_count": 48,
   "id": "761f58db",
   "metadata": {},
   "outputs": [
    {
     "name": "stdout",
     "output_type": "stream",
     "text": [
      "{'Amanda': 1.65, 'Ana': 1.6, 'João': 1.7}\n",
      "1.65\n"
     ]
    }
   ],
   "source": [
    "altura = {'Amanda': 1.65, 'Ana': 1.60, 'João': 1.70}\n",
    "peso = {'Amanda': 60, 'Ana': 58, 'João': 68}\n",
    "\n",
    "#imprimindo o dicionario 'altura'\n",
    "print(altura)\n",
    "\n",
    "#imprimindo o indice 'Ana' do dicionário 'altura'\n",
    "print(altura['Amanda'])"
   ]
  },
  {
   "cell_type": "markdown",
   "id": "78fbf83f",
   "metadata": {},
   "source": [
    "### Convertendo variáveis"
   ]
  },
  {
   "cell_type": "code",
   "execution_count": 49,
   "id": "b9d29aff",
   "metadata": {},
   "outputs": [
    {
     "name": "stdout",
     "output_type": "stream",
     "text": [
      "5\n",
      "<class 'int'>\n",
      "5\n",
      "<class 'str'>\n"
     ]
    }
   ],
   "source": [
    "# Antes da conversão\n",
    "A = 5\n",
    "print(A)\n",
    "print(type(A))\n",
    "\n",
    "# Conversão do tipo\n",
    "\n",
    "A = str(A)\n",
    "\n",
    "# Depois da conversão\n",
    "print(A)\n",
    "print(type(A))"
   ]
  },
  {
   "cell_type": "markdown",
   "id": "8d1bf930",
   "metadata": {},
   "source": [
    "# Operações Matemáticas"
   ]
  },
  {
   "cell_type": "markdown",
   "id": "163eb44c",
   "metadata": {},
   "source": [
    "### Soma"
   ]
  },
  {
   "cell_type": "code",
   "execution_count": 50,
   "id": "77d3227c",
   "metadata": {},
   "outputs": [
    {
     "name": "stdout",
     "output_type": "stream",
     "text": [
      "25\n"
     ]
    }
   ],
   "source": [
    "A = 20\n",
    "\n",
    "Resultado = A + 5\n",
    "\n",
    "print(Resultado)"
   ]
  },
  {
   "cell_type": "markdown",
   "id": "9238b1db",
   "metadata": {},
   "source": [
    "### Subtração"
   ]
  },
  {
   "cell_type": "code",
   "execution_count": 51,
   "id": "81734950",
   "metadata": {},
   "outputs": [
    {
     "name": "stdout",
     "output_type": "stream",
     "text": [
      "10\n"
     ]
    }
   ],
   "source": [
    "A = 15\n",
    "\n",
    "Resultado = A - 5\n",
    "\n",
    "print(Resultado)"
   ]
  },
  {
   "cell_type": "markdown",
   "id": "fb667639",
   "metadata": {},
   "source": [
    "### Divisão"
   ]
  },
  {
   "cell_type": "code",
   "execution_count": 52,
   "id": "53a67efe",
   "metadata": {},
   "outputs": [
    {
     "name": "stdout",
     "output_type": "stream",
     "text": [
      "5.0\n"
     ]
    }
   ],
   "source": [
    "A = 15\n",
    "\n",
    "B = 3\n",
    "\n",
    "Resultado = A/B\n",
    "\n",
    "print(Resultado)"
   ]
  },
  {
   "cell_type": "markdown",
   "id": "9095d813",
   "metadata": {},
   "source": [
    "### Potênciação"
   ]
  },
  {
   "cell_type": "code",
   "execution_count": 56,
   "id": "035d3337",
   "metadata": {},
   "outputs": [
    {
     "name": "stdout",
     "output_type": "stream",
     "text": [
      "4\n"
     ]
    }
   ],
   "source": [
    "A = 2\n",
    "\n",
    "quadrado_de_A = A**2\n",
    "\n",
    "print(quadrado_de_A)"
   ]
  },
  {
   "cell_type": "markdown",
   "id": "ccea90cc",
   "metadata": {},
   "source": [
    "# Erros comuns"
   ]
  },
  {
   "cell_type": "code",
   "execution_count": 57,
   "id": "afb508b3",
   "metadata": {},
   "outputs": [
    {
     "name": "stdout",
     "output_type": "stream",
     "text": [
      "15\n"
     ]
    }
   ],
   "source": [
    "A = 10\n",
    "B = int('5')\n",
    "\n",
    "soma = A + B\n",
    "print(soma)"
   ]
  },
  {
   "cell_type": "code",
   "execution_count": null,
   "id": "be720943",
   "metadata": {},
   "outputs": [],
   "source": []
  }
 ],
 "metadata": {
  "kernelspec": {
   "display_name": "Python 3 (ipykernel)",
   "language": "python",
   "name": "python3"
  },
  "language_info": {
   "codemirror_mode": {
    "name": "ipython",
    "version": 3
   },
   "file_extension": ".py",
   "mimetype": "text/x-python",
   "name": "python",
   "nbconvert_exporter": "python",
   "pygments_lexer": "ipython3",
   "version": "3.8.11"
  }
 },
 "nbformat": 4,
 "nbformat_minor": 5
}
